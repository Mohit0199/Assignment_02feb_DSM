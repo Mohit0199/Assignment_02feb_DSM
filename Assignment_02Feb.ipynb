{
 "cells": [
  {
   "cell_type": "code",
   "execution_count": 3,
   "id": "84845069-900c-41fc-9fee-fd93341138b4",
   "metadata": {},
   "outputs": [
    {
     "name": "stdout",
     "output_type": "stream",
     "text": [
      "[1, 9, 25, 49, 64, 81]\n",
      "3628800\n"
     ]
    }
   ],
   "source": [
    "#Q1.Explain with an example each when to use a for loop and a while loop.\n",
    "\n",
    "##Use a for loop when we know the number of iterations beforehand, especially when iterating over a sequence.\n",
    "l = [1, 3, 5, 7, 8, 9]\n",
    "l1 = []\n",
    "for i in l:\n",
    "    l1.append(i**2)\n",
    "print(l1)\n",
    "\n",
    "\n",
    "##Use a while loop when the number of iterations is not known beforehand,\n",
    "##or when we need to iterate until a certain condition is met.\n",
    "\n",
    "count = 1\n",
    "total = 1\n",
    "while count <= 10:\n",
    "    total *= count\n",
    "    count += 1\n",
    "print(total)"
   ]
  },
  {
   "cell_type": "code",
   "execution_count": 7,
   "id": "733a8105-27c6-4f30-b245-a81b29736242",
   "metadata": {},
   "outputs": [
    {
     "name": "stdout",
     "output_type": "stream",
     "text": [
      "By using for loop:\n",
      "Sum of fist 10 natural number: 55\n",
      "Product of fist 10 natural number: 3628800\n",
      "\n",
      "By using while loop:\n",
      "Sum of fist 10 natural number: 55\n",
      "Product of fist 10 natural number: 3628800\n"
     ]
    }
   ],
   "source": [
    "#Q2.Write a python program to print the sum and product of the first 10 natural numbers using for and while loop.\n",
    "\n",
    "## by using for loop\n",
    "print(\"By using for loop:\")\n",
    "total = 0\n",
    "for i in range(1,11):\n",
    "    total += i\n",
    "print(\"Sum of fist 10 natural number:\", total)\n",
    "\n",
    "total = 1\n",
    "for i in range(1, 11):\n",
    "    total *= i\n",
    "print(\"Product of fist 10 natural number:\", total)\n",
    "\n",
    "\n",
    "## by using while loop\n",
    "print(\"\\nBy using while loop:\")\n",
    "total = 0\n",
    "count = 1\n",
    "while count < 11:\n",
    "    total += count\n",
    "    count += 1\n",
    "print(\"Sum of fist 10 natural number:\", total)\n",
    "\n",
    "total = 1\n",
    "count = 1\n",
    "while count < 11:\n",
    "    total *= count\n",
    "    count += 1\n",
    "print(\"Product of fist 10 natural number:\", total)"
   ]
  },
  {
   "cell_type": "code",
   "execution_count": 11,
   "id": "6aa03578-4624-42e8-818c-16f43e3e510d",
   "metadata": {},
   "outputs": [
    {
     "name": "stdin",
     "output_type": "stream",
     "text": [
      "Unit of electricity consumed in this month:  310\n"
     ]
    },
    {
     "name": "stdout",
     "output_type": "stream",
     "text": [
      "Total bill for 310 units is 2250.0\n"
     ]
    }
   ],
   "source": [
    "#Q3. Create a python program to compute the electricity bill for a household.\n",
    "# The per-unit charges in rupees are as follows: For the first 100 units, the user will be charged Rs. 4.5 per \n",
    "# unit, for the next 100 units, the user will be charged Rs. 6 per unit, and for the next 100 units, the user will \n",
    "# be charged Rs. 10 per unit, After 300 units and above the user will be charged Rs. 20 per unit.\n",
    "# You are required to take the units of electricity consumed in a month from the user as input.\n",
    "# Your program must pass this test case: when the unit of electricity consumed by the user in a month is \n",
    "# 310, the total electricity bill should be 2250.\n",
    "\n",
    "\n",
    "units = int(input(\"Unit of electricity consumed in this month: \"))\n",
    "\n",
    "if units > 0 and units <= 100:\n",
    "    bill = units * 4.5\n",
    "elif units > 100 and units <= 200:\n",
    "    bill = 100 * 4.5 + (units - 100) * 6\n",
    "elif units > 200 and units <= 300:\n",
    "    bill = 100 * 4.5 + 100 * 6 + (units - 200) * 10\n",
    "else:\n",
    "    bill = 100 * 4.5 + 100 * 6 + 100 * 10 + (units - 300) * 20\n",
    "\n",
    "print(f\"Total bill for {units} units is {bill}\")"
   ]
  },
  {
   "cell_type": "code",
   "execution_count": 13,
   "id": "10848394-c6fc-4bc2-b6d4-7c7963fe3748",
   "metadata": {},
   "outputs": [
    {
     "name": "stdout",
     "output_type": "stream",
     "text": [
      "By for loop:\n",
      "[8, 64, 125, 216, 512, 1000, 1728, 2744, 3375, 4096, 5832, 8000, 10648, 13824, 15625, 17576, 21952, 27000, 32768, 39304, 42875, 46656, 54872, 64000, 74088, 85184, 91125, 97336, 110592, 125000, 140608, 157464, 166375, 175616, 195112, 216000, 238328, 262144, 274625, 287496, 314432, 343000, 373248, 405224, 421875, 438976, 474552, 512000, 551368, 592704, 614125, 636056, 681472, 729000, 778688, 830584, 857375, 884736, 941192, 1000000]\n",
      "\n",
      "By while loop\n",
      "[8, 64, 125, 216, 512, 1000, 1728, 2744, 3375, 4096, 5832, 8000, 10648, 13824, 15625, 17576, 21952, 27000, 32768, 39304, 42875, 46656, 54872, 64000, 74088, 85184, 91125, 97336, 110592, 125000, 140608, 157464, 166375, 175616, 195112, 216000, 238328, 262144, 274625, 287496, 314432, 343000, 373248, 405224, 421875, 438976, 474552, 512000, 551368, 592704, 614125, 636056, 681472, 729000, 778688, 830584, 857375, 884736, 941192, 1000000]\n"
     ]
    }
   ],
   "source": [
    "# Q4. Create a list of numbers from 1 to 100. Use for loop and while loop to calculate the cube of each \n",
    "# number and if the cube of that number is divisible by 4 or 5 then append that number in a list and print \n",
    "# that list.\n",
    "\n",
    "l1 = [i for i in range(1, 101)]\n",
    "\n",
    "## by for loop\n",
    "print('By for loop:')\n",
    "result_list = []\n",
    "for i in l1:\n",
    "    cube = i**3\n",
    "    if (cube%4 == 0) or (cube%5 == 0):\n",
    "        result_list.append(cube)\n",
    "print(result_list)\n",
    "\n",
    "\n",
    "##by while loop\n",
    "print(\"\\nBy while loop\")\n",
    "i = 0\n",
    "result_list = []\n",
    "while i < len(l1):\n",
    "    cube = l1[i] ** 3\n",
    "    if (cube%4 == 0) or (cube%5 == 0):\n",
    "        result_list.append(cube)\n",
    "    i += 1\n",
    "print(result_list)   "
   ]
  },
  {
   "cell_type": "code",
   "execution_count": 15,
   "id": "8570bb5c-5875-439b-93d7-fec1751378c9",
   "metadata": {},
   "outputs": [
    {
     "name": "stdout",
     "output_type": "stream",
     "text": [
      "Total vowels present in given string are 11\n"
     ]
    }
   ],
   "source": [
    "# Q5.Write a program to filter count vowels in the below-given string.\n",
    "# string = \"I want to become a data scientist\n",
    "\n",
    "string = \"I want to become a data scientist\"\n",
    "vowels = ['a', 'e', 'i', 'o', 'u']\n",
    "count = 0\n",
    "for i in string:\n",
    "    if i in vowels:\n",
    "        count += 1\n",
    "        \n",
    "print(f\"Total vowels present in given string are {count}\")"
   ]
  },
  {
   "cell_type": "code",
   "execution_count": null,
   "id": "110624d8-13c2-4340-a671-2b43e4f4aac9",
   "metadata": {},
   "outputs": [],
   "source": []
  }
 ],
 "metadata": {
  "kernelspec": {
   "display_name": "Python 3 (ipykernel)",
   "language": "python",
   "name": "python3"
  },
  "language_info": {
   "codemirror_mode": {
    "name": "ipython",
    "version": 3
   },
   "file_extension": ".py",
   "mimetype": "text/x-python",
   "name": "python",
   "nbconvert_exporter": "python",
   "pygments_lexer": "ipython3",
   "version": "3.10.8"
  }
 },
 "nbformat": 4,
 "nbformat_minor": 5
}
